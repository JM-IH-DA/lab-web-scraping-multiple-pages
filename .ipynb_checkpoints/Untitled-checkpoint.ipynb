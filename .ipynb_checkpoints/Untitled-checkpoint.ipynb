{
 "cells": [
  {
   "cell_type": "markdown",
   "id": "158a405c",
   "metadata": {},
   "source": [
    "### Lab | Web Scraping Multiple Pages\n",
    "\n",
    "#### Instructions Part 2\n",
    "\n",
    "#### Practice web scraping. This is not involved with the GNOD project of the week\n",
    "\n",
    "As you've seen, scraping the internet is a skill that can get you all sorts of information. Here are some little challenges that you can try to gain more experience in the field. Open a new Jupyter notebook and scrape at least 3 of these sites.\n",
    "\n",
    "1. Retrieve an arbitrary Wikipedia page of \"Python\" and create a list of links on that page: url ='https://en.wikipedia.org/wiki/Python'\n",
    "2. Find the number of titles that have changed in the United States Code since its last release point: url = 'http://uscode.house.gov/download/download.shtml'\n",
    "3. Create a Python list with the top ten FBI's Most Wanted names: url = 'https://www.fbi.gov/wanted/topten'\n",
    "4. Display the 20 latest earthquakes info (date, time, latitude, longitude and region name) by the EMSC as a pandas dataframe: url = 'https://www.emsc-csem.org/Earthquake/'\n",
    "5. List all language names and number of related articles in the order they appear in wikipedia.org: url = 'https://www.wikipedia.org/'\n",
    "6. A list with the different kind of datasets available in data.gov.uk: url = 'https://data.gov.uk/'\n",
    "7. Display the top 10 languages by number of native speakers stored in a pandas dataframe: url = 'https://en.wikipedia.org/wiki/List_of_languages_by_number_of_native_speakers'"
   ]
  },
  {
   "cell_type": "markdown",
   "id": "8db44374",
   "metadata": {},
   "source": [
    "------------------------"
   ]
  },
  {
   "cell_type": "code",
   "execution_count": 1,
   "id": "43d9eb5e",
   "metadata": {},
   "outputs": [],
   "source": [
    "# Importing libaries:\n",
    "\n",
    "from bs4 import BeautifulSoup\n",
    "import requests\n",
    "import pandas as pd"
   ]
  },
  {
   "cell_type": "markdown",
   "id": "5b0a4b99",
   "metadata": {},
   "source": [
    "1. Retrieve an arbitrary Wikipedia page of \"Python\" and create a list of links on that page: url ='https://en.wikipedia.org/wiki/Python'"
   ]
  },
  {
   "cell_type": "code",
   "execution_count": 2,
   "id": "49904929",
   "metadata": {},
   "outputs": [
    {
     "name": "stdout",
     "output_type": "stream",
     "text": [
      "Wikipedia Links:\n",
      "/wiki/Main_Page\n",
      "/wiki/Wikipedia:Contents\n",
      "/wiki/Portal:Current_events\n",
      "/wiki/Special:Random\n",
      "/wiki/Wikipedia:About\n",
      "/wiki/Help:Contents\n",
      "/wiki/Help:Introduction\n",
      "/wiki/Wikipedia:Community_portal\n",
      "/wiki/Special:RecentChanges\n",
      "/wiki/Wikipedia:File_upload_wizard\n",
      "/wiki/Main_Page\n",
      "/wiki/Special:Search\n",
      "/wiki/Help:Introduction\n",
      "/wiki/Special:MyContributions\n",
      "/wiki/Special:MyTalk\n",
      "/wiki/Python\n",
      "/wiki/Talk:Python\n",
      "/wiki/Python\n",
      "/wiki/Python\n",
      "/wiki/Special:WhatLinksHere/Python\n",
      "/wiki/Special:RecentChangesLinked/Python\n",
      "/wiki/Wikipedia:File_Upload_Wizard\n",
      "/wiki/Special:SpecialPages\n",
      "/wiki/Pythonidae\n",
      "/wiki/Python_(genus)\n",
      "/wiki/Python_(mythology)\n",
      "/wiki/Python_(programming_language)\n",
      "/wiki/CMU_Common_Lisp\n",
      "/wiki/PERQ#PERQ_3\n",
      "/wiki/Python_of_Aenus\n",
      "/wiki/Python_(painter)\n",
      "/wiki/Python_of_Byzantium\n",
      "/wiki/Python_of_Catana\n",
      "/wiki/Python_Anghelo\n",
      "/wiki/Python_(Efteling)\n",
      "/wiki/Python_(Busch_Gardens_Tampa_Bay)\n",
      "/wiki/Python_(Coney_Island,_Cincinnati,_Ohio)\n",
      "/wiki/Python_(automobile_maker)\n",
      "/wiki/Python_(Ford_prototype)\n",
      "/wiki/Python_(missile)\n",
      "/wiki/Python_(nuclear_primary)\n",
      "/wiki/Colt_Python\n",
      "/wiki/Python_(codename)\n",
      "/wiki/Python_(film)\n",
      "/wiki/Monty_Python\n",
      "/wiki/Python_(Monty)_Pictures\n",
      "/wiki/Timon_of_Phlius\n",
      "/wiki/Pyton\n",
      "/wiki/Pithon\n",
      "/wiki/File:Disambig_gray.svg\n",
      "/wiki/Help:Disambiguation\n",
      "/wiki/Help:Category\n",
      "/wiki/Category:Disambiguation_pages\n",
      "/wiki/Category:Human_name_disambiguation_pages\n",
      "/wiki/Category:Disambiguation_pages_with_given-name-holder_lists\n",
      "/wiki/Category:Short_description_is_different_from_Wikidata\n",
      "/wiki/Category:All_article_disambiguation_pages\n",
      "/wiki/Category:All_disambiguation_pages\n",
      "/wiki/Category:Animal_common_name_disambiguation_pages\n",
      "/wiki/Wikipedia:About\n",
      "/wiki/Wikipedia:General_disclaimer\n"
     ]
    }
   ],
   "source": [
    "url = 'https://en.wikipedia.org/wiki/Python'\n",
    "\n",
    "response = requests.get(url)\n",
    "\n",
    "if response.status_code == 200:\n",
    "    soup = BeautifulSoup(response.content, 'html.parser')\n",
    "    links = soup.find_all('a')\n",
    "\n",
    "    link_list = [link.get('href') for link in links if link.get('href')]\n",
    "\n",
    "    wiki_links = [link for link in link_list if link.startswith('/wiki/')]\n",
    "\n",
    "    print(\"Wikipedia Links:\")\n",
    "    for link in wiki_links:\n",
    "        print(link)\n",
    "else:\n",
    "    print(\"Failed to fetch the page\")"
   ]
  },
  {
   "cell_type": "code",
   "execution_count": 3,
   "id": "b7d89159",
   "metadata": {
    "scrolled": false
   },
   "outputs": [
    {
     "name": "stdout",
     "output_type": "stream",
     "text": [
      "Absolute URLs of Wikipedia Links:\n",
      "https://en.wikipedia.org/wiki/Main_Page\n",
      "https://en.wikipedia.org/wiki/Wikipedia:Contents\n",
      "https://en.wikipedia.org/wiki/Portal:Current_events\n",
      "https://en.wikipedia.org/wiki/Special:Random\n",
      "https://en.wikipedia.org/wiki/Wikipedia:About\n",
      "https://en.wikipedia.org/wiki/Help:Contents\n",
      "https://en.wikipedia.org/wiki/Help:Introduction\n",
      "https://en.wikipedia.org/wiki/Wikipedia:Community_portal\n",
      "https://en.wikipedia.org/wiki/Special:RecentChanges\n",
      "https://en.wikipedia.org/wiki/Wikipedia:File_upload_wizard\n",
      "https://en.wikipedia.org/wiki/Main_Page\n",
      "https://en.wikipedia.org/wiki/Special:Search\n",
      "https://en.wikipedia.org/wiki/Help:Introduction\n",
      "https://en.wikipedia.org/wiki/Special:MyContributions\n",
      "https://en.wikipedia.org/wiki/Special:MyTalk\n",
      "https://en.wikipedia.org/wiki/Python\n",
      "https://en.wikipedia.org/wiki/Talk:Python\n",
      "https://en.wikipedia.org/wiki/Python\n",
      "https://en.wikipedia.org/wiki/Python\n",
      "https://en.wikipedia.org/wiki/Special:WhatLinksHere/Python\n",
      "https://en.wikipedia.org/wiki/Special:RecentChangesLinked/Python\n",
      "https://en.wikipedia.org/wiki/Wikipedia:File_Upload_Wizard\n",
      "https://en.wikipedia.org/wiki/Special:SpecialPages\n",
      "https://en.wikipedia.org/wiki/Pythonidae\n",
      "https://en.wikipedia.org/wiki/Python_(genus)\n",
      "https://en.wikipedia.org/wiki/Python_(mythology)\n",
      "https://en.wikipedia.org/wiki/Python_(programming_language)\n",
      "https://en.wikipedia.org/wiki/CMU_Common_Lisp\n",
      "https://en.wikipedia.org/wiki/PERQ#PERQ_3\n",
      "https://en.wikipedia.org/wiki/Python_of_Aenus\n",
      "https://en.wikipedia.org/wiki/Python_(painter)\n",
      "https://en.wikipedia.org/wiki/Python_of_Byzantium\n",
      "https://en.wikipedia.org/wiki/Python_of_Catana\n",
      "https://en.wikipedia.org/wiki/Python_Anghelo\n",
      "https://en.wikipedia.org/wiki/Python_(Efteling)\n",
      "https://en.wikipedia.org/wiki/Python_(Busch_Gardens_Tampa_Bay)\n",
      "https://en.wikipedia.org/wiki/Python_(Coney_Island,_Cincinnati,_Ohio)\n",
      "https://en.wikipedia.org/wiki/Python_(automobile_maker)\n",
      "https://en.wikipedia.org/wiki/Python_(Ford_prototype)\n",
      "https://en.wikipedia.org/wiki/Python_(missile)\n",
      "https://en.wikipedia.org/wiki/Python_(nuclear_primary)\n",
      "https://en.wikipedia.org/wiki/Colt_Python\n",
      "https://en.wikipedia.org/wiki/Python_(codename)\n",
      "https://en.wikipedia.org/wiki/Python_(film)\n",
      "https://en.wikipedia.org/wiki/Monty_Python\n",
      "https://en.wikipedia.org/wiki/Python_(Monty)_Pictures\n",
      "https://en.wikipedia.org/wiki/Timon_of_Phlius\n",
      "https://en.wikipedia.org/wiki/Pyton\n",
      "https://en.wikipedia.org/wiki/Pithon\n",
      "https://en.wikipedia.org/wiki/File:Disambig_gray.svg\n",
      "https://en.wikipedia.org/wiki/Help:Disambiguation\n",
      "https://en.wikipedia.org/wiki/Help:Category\n",
      "https://en.wikipedia.org/wiki/Category:Disambiguation_pages\n",
      "https://en.wikipedia.org/wiki/Category:Human_name_disambiguation_pages\n",
      "https://en.wikipedia.org/wiki/Category:Disambiguation_pages_with_given-name-holder_lists\n",
      "https://en.wikipedia.org/wiki/Category:Short_description_is_different_from_Wikidata\n",
      "https://en.wikipedia.org/wiki/Category:All_article_disambiguation_pages\n",
      "https://en.wikipedia.org/wiki/Category:All_disambiguation_pages\n",
      "https://en.wikipedia.org/wiki/Category:Animal_common_name_disambiguation_pages\n",
      "https://en.wikipedia.org/wiki/Wikipedia:About\n",
      "https://en.wikipedia.org/wiki/Wikipedia:General_disclaimer\n"
     ]
    }
   ],
   "source": [
    "# Extracting the url's:\n",
    "\n",
    "from urllib.parse import urljoin  \n",
    "\n",
    "absolute_links = [urljoin(url, link) for link in wiki_links]\n",
    "print(\"Absolute URLs of Wikipedia Links:\")\n",
    "\n",
    "for link in absolute_links:\n",
    "    print(link)"
   ]
  },
  {
   "cell_type": "markdown",
   "id": "9182aad5",
   "metadata": {},
   "source": [
    "2. Find the number of titles that have changed in the United States Code since its last release point: url = 'http://uscode.house.gov/download/download.shtml'"
   ]
  },
  {
   "cell_type": "code",
   "execution_count": 4,
   "id": "23bb3e61",
   "metadata": {},
   "outputs": [
    {
     "name": "stdout",
     "output_type": "stream",
     "text": [
      "All titles in the format selected compressed into a zip archive.\n",
      "\n",
      "Title 1 - General Provisions٭\n",
      "Title 2 - The Congress\n",
      "Title 3 - The President٭\n",
      "Title 4 - Flag and Seal, Seat of Government, and the States٭\n",
      "Title 5 - Government Organization and Employees٭\n",
      "Title 6 - Domestic Security\n",
      "Title 7 - Agriculture\n",
      "Title 8 - Aliens and Nationality\n",
      "Title 9 - Arbitration٭\n",
      "Title 10 - Armed Forces٭\n",
      "Title 11 - Bankruptcy٭\n",
      "Title 12 - Banks and Banking\n",
      "Title 13 - Census٭\n",
      "Title 14 - Coast Guard٭\n",
      "Title 15 - Commerce and Trade\n",
      "Title 16 - Conservation\n",
      "Title 17 - Copyrights٭\n",
      "Title 18 - Crimes and Criminal Procedure٭\n",
      "Title 19 - Customs Duties\n",
      "Title 20 - Education\n",
      "Title 21 - Food and Drugs\n",
      "Title 22 - Foreign Relations and Intercourse\n",
      "Title 23 - Highways٭\n",
      "Title 24 - Hospitals and Asylums\n",
      "Title 25 - Indians\n",
      "Title 26 - Internal Revenue Code\n",
      "Title 27 - Intoxicating Liquors\n",
      "Title 28 - Judiciary and Judicial Procedure٭\n",
      "Title 29 - Labor\n",
      "Title 30 - Mineral Lands and Mining\n",
      "Title 31 - Money and Finance٭\n",
      "Title 32 - National Guard٭\n",
      "Title 33 - Navigation and Navigable Waters\n",
      "Title 34 - Crime Control and Law Enforcement\n",
      "Title 35 - Patents٭\n",
      "Title 36 - Patriotic and National Observances, Ceremonies, and Organizations٭\n",
      "Title 37 - Pay and Allowances of the Uniformed Services٭\n",
      "Title 39 - Postal Service٭\n",
      "Title 40 - Public Buildings, Property, and Works٭\n",
      "Title 41 - Public Contracts٭\n",
      "Title 42 - The Public Health and Welfare\n",
      "Title 43 - Public Lands\n",
      "Title 44 - Public Printing and Documents٭\n",
      "Title 45 - Railroads\n",
      "Title 46 - Shipping٭\n",
      "Title 47 - Telecommunications\n",
      "Title 48 - Territories and Insular Possessions\n",
      "Title 49 - Transportation٭\n",
      "Title 50 - War and National Defense\n",
      "Title 51 - National and Commercial Space Programs٭\n",
      "Title 52 - Voting and Elections\n",
      "Title 53 [Reserved]\n",
      "Title 54 - National Park Service and Related Programs٭\n"
     ]
    }
   ],
   "source": [
    "url2 = 'http://uscode.house.gov/download/download.shtml'\n",
    "response2 = requests.get(url2)\n",
    "\n",
    "if response2.status_code == 200:\n",
    "    soup2 = BeautifulSoup(response2.content, 'html.parser')\n",
    "title_elements = soup2.find_all(\"div\", {'class':'usctitle'})\n",
    "for title_element in title_elements:\n",
    "    print(title_element.get_text(strip=True)) "
   ]
  },
  {
   "cell_type": "markdown",
   "id": "60dca26b",
   "metadata": {},
   "source": [
    "5. List all language names and number of related articles in the order they appear in wikipedia.org: url = 'https://www.wikipedia.org/'"
   ]
  },
  {
   "cell_type": "code",
   "execution_count": 8,
   "id": "c57abd32",
   "metadata": {
    "scrolled": true
   },
   "outputs": [
    {
     "name": "stdout",
     "output_type": "stream",
     "text": [
      "Language: English, Article Language: 6 744 000+ articles\n",
      "Language: Español, Article Language: 1 906 000+ artículos\n",
      "Language: Русский, Article Language: 1 947 000+ статей\n",
      "Language: 日本語, Article Language: 1 392 000+ 記事\n",
      "Language: Deutsch, Article Language: 2 852 000+ Artikel\n",
      "Language: Français, Article Language: 2 567 000+ articles\n",
      "Language: Italiano, Article Language: 1 835 000+ voci\n",
      "Language: 中文, Article Language: 1 387 000+ 条目 / 條目\n",
      "Language: العربية, Article Language: 1 221 000+ مقالة\n",
      "Language: Português, Article Language: 1 113 000+ artigos\n"
     ]
    }
   ],
   "source": [
    "url3 = 'https://www.wikipedia.org/'\n",
    "\n",
    "response3 = requests.get(url3)\n",
    "\n",
    "if response3.status_code == 200:\n",
    "    soup3 = BeautifulSoup(response3.content, 'html.parser')\n",
    "\n",
    "lang_div = soup3.find('div', {'class': 'central-featured'})    \n",
    "    \n",
    "if lang_div:\n",
    "    language = []\n",
    "    article_language = []\n",
    "        \n",
    "    language_blocks = lang_div.find_all('div', {'class': 'central-featured-lang'})\n",
    "        \n",
    "    for block in language_blocks:\n",
    "           \n",
    "        lang = block.find('strong').text.strip()\n",
    "        art_lang = block.find('small').text.strip()\n",
    "               \n",
    "        language.append(lang)\n",
    "        article_language.append(art_lang)\n",
    "            \n",
    "        print(f\"Language: {lang}, Article Language: {art_lang}\")\n",
    "        \n",
    "        \n",
    "    data = {\n",
    "            \"Language\": language,\n",
    "            \"Number of Articles\": article_language\n",
    "        }\n",
    "        \n",
    "    df = pd.DataFrame(data)\n",
    "else:\n",
    "    print(\"Language information not found on the page.\")"
   ]
  },
  {
   "cell_type": "markdown",
   "id": "55a3273a",
   "metadata": {},
   "source": [
    "6. A list with the different kind of datasets available in data.gov.uk: url = 'https://data.gov.uk/'"
   ]
  },
  {
   "cell_type": "code",
   "execution_count": null,
   "id": "50242c7a",
   "metadata": {},
   "outputs": [],
   "source": [
    "url4 = 'https://data.gov.uk/'\n",
    "\n",
    "response4 = requests.get(url4)\n",
    "\n",
    "soup4 = BeautifulSoup(response4.content, 'html.parser')\n",
    "dataset_types = soup4.find_all('h3', class_='govuk-heading-s dgu-topics__heading')\n",
    "\n",
    "types_list = [dataset.get_text() for dataset in dataset_types]\n",
    "print(types_list)"
   ]
  },
  {
   "cell_type": "markdown",
   "id": "6f741b0c",
   "metadata": {},
   "source": [
    "7. Display the top 10 languages by number of native speakers stored in a pandas dataframe: url = 'https://en.wikipedia.org/wiki/List_of_languages_by_number_of_native_speakers'"
   ]
  },
  {
   "cell_type": "code",
   "execution_count": null,
   "id": "ad943ebe",
   "metadata": {},
   "outputs": [],
   "source": [
    "url5 = 'https://en.wikipedia.org/wiki/List_of_languages_by_number_of_native_speakers'\n",
    "response5 = requests.get(url5)\n",
    "\n",
    "if response5.status_code == 200:\n",
    "    soup5 = BeautifulSoup(response5.content, 'html.parser')\n",
    "    \n",
    "    table = soup5.find('table', {'class': 'wikitable sortable static-row-numbers'})\n",
    "\n",
    "    language_data = []\n",
    "    rows = table.find_all('tr')\n",
    "    \n",
    "    for row in rows[1:11]: \n",
    "        cols = row.find_all(['td'])\n",
    "        language = cols[0].get_text(strip=True)\n",
    "        native_speakers = cols[1].get_text(strip=True)\n",
    "        language_data.append({'Language': language, 'Native Speakers (millions)': native_speakers})\n",
    "\n",
    "    \n",
    "    df1 = pd.DataFrame(language_data)\n",
    "else:\n",
    "    print(\"Failed to fetch the page.\")\n"
   ]
  },
  {
   "cell_type": "code",
   "execution_count": null,
   "id": "f7632945",
   "metadata": {},
   "outputs": [],
   "source": [
    "df1"
   ]
  }
 ],
 "metadata": {
  "kernelspec": {
   "display_name": "Python 3 (ipykernel)",
   "language": "python",
   "name": "python3"
  },
  "language_info": {
   "codemirror_mode": {
    "name": "ipython",
    "version": 3
   },
   "file_extension": ".py",
   "mimetype": "text/x-python",
   "name": "python",
   "nbconvert_exporter": "python",
   "pygments_lexer": "ipython3",
   "version": "3.11.5"
  }
 },
 "nbformat": 4,
 "nbformat_minor": 5
}
